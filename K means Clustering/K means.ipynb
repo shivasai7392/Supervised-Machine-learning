{
 "cells": [
  {
   "cell_type": "code",
   "execution_count": 3,
   "metadata": {},
   "outputs": [],
   "source": [
    "from sklearn.datasets import load_iris"
   ]
  },
  {
   "cell_type": "code",
   "execution_count": 4,
   "metadata": {},
   "outputs": [],
   "source": [
    "iris = load_iris()"
   ]
  },
  {
   "cell_type": "code",
   "execution_count": 5,
   "metadata": {},
   "outputs": [],
   "source": [
    "import numpy as np\n"
   ]
  },
  {
   "cell_type": "code",
   "execution_count": 6,
   "metadata": {},
   "outputs": [],
   "source": [
    "from sklearn.cluster import KMeans"
   ]
  },
  {
   "cell_type": "code",
   "execution_count": 7,
   "metadata": {},
   "outputs": [],
   "source": [
    "kms = KMeans(n_clusters=3)"
   ]
  },
  {
   "cell_type": "code",
   "execution_count": 8,
   "metadata": {},
   "outputs": [
    {
     "data": {
      "text/plain": [
       "KMeans(algorithm='auto', copy_x=True, init='k-means++', max_iter=300,\n",
       "    n_clusters=3, n_init=10, n_jobs=None, precompute_distances='auto',\n",
       "    random_state=None, tol=0.0001, verbose=0)"
      ]
     },
     "execution_count": 8,
     "metadata": {},
     "output_type": "execute_result"
    }
   ],
   "source": [
    "kms.fit(iris.data)"
   ]
  },
  {
   "cell_type": "code",
   "execution_count": 9,
   "metadata": {},
   "outputs": [
    {
     "data": {
      "text/plain": [
       "array([0, 0, 0, 0, 0, 0, 0, 0, 0, 0, 0, 0, 0, 0, 0, 0, 0, 0, 0, 0, 0, 0,\n",
       "       0, 0, 0, 0, 0, 0, 0, 0, 0, 0, 0, 0, 0, 0, 0, 0, 0, 0, 0, 0, 0, 0,\n",
       "       0, 0, 0, 0, 0, 0, 1, 1, 2, 1, 1, 1, 1, 1, 1, 1, 1, 1, 1, 1, 1, 1,\n",
       "       1, 1, 1, 1, 1, 1, 1, 1, 1, 1, 1, 2, 1, 1, 1, 1, 1, 1, 1, 1, 1, 1,\n",
       "       1, 1, 1, 1, 1, 1, 1, 1, 1, 1, 1, 1, 2, 1, 2, 2, 2, 2, 1, 2, 2, 2,\n",
       "       2, 2, 2, 1, 1, 2, 2, 2, 2, 1, 2, 1, 2, 1, 2, 2, 1, 1, 2, 2, 2, 2,\n",
       "       2, 1, 2, 2, 2, 2, 1, 2, 2, 2, 1, 2, 2, 2, 1, 2, 2, 1], dtype=int32)"
      ]
     },
     "execution_count": 9,
     "metadata": {},
     "output_type": "execute_result"
    }
   ],
   "source": [
    "kms.labels_"
   ]
  },
  {
   "cell_type": "code",
   "execution_count": 10,
   "metadata": {},
   "outputs": [],
   "source": [
    "from sklearn.datasets import make_blobs\n"
   ]
  },
  {
   "cell_type": "code",
   "execution_count": 11,
   "metadata": {},
   "outputs": [],
   "source": [
    "blobs = make_blobs()"
   ]
  },
  {
   "cell_type": "code",
   "execution_count": 12,
   "metadata": {},
   "outputs": [
    {
     "data": {
      "text/plain": [
       "(array([[  2.07825239,   4.76912155],\n",
       "        [ -8.8096324 ,   7.48557638],\n",
       "        [  1.5560192 ,   6.67745509],\n",
       "        [ -0.65658145,   9.41803843],\n",
       "        [ -9.51100967,   6.73277222],\n",
       "        [  0.74904507,   9.17957745],\n",
       "        [ -9.13052651,   8.16609015],\n",
       "        [ -8.53329663,   6.95942768],\n",
       "        [  3.46974103,   5.32920419],\n",
       "        [ -8.89921859,   7.41471267],\n",
       "        [  2.74290907,   4.66772098],\n",
       "        [  3.40677498,   9.12924044],\n",
       "        [  1.01234382,   7.54239578],\n",
       "        [  4.66845044,   7.69976623],\n",
       "        [  0.45134233,   6.94949484],\n",
       "        [ -8.63608417,   7.25764423],\n",
       "        [ -7.18477245,   7.55345724],\n",
       "        [  0.26103918,   7.36798837],\n",
       "        [ -9.29146121,   7.22246066],\n",
       "        [-10.61271351,   5.84296796],\n",
       "        [ -0.33676077,   6.91263848],\n",
       "        [  0.36511963,   7.05881808],\n",
       "        [  0.71522785,   7.92844868],\n",
       "        [ -0.85872483,   7.27510016],\n",
       "        [  1.72279279,   8.51408424],\n",
       "        [  0.29299058,   8.00476568],\n",
       "        [ -9.7408737 ,   7.51164882],\n",
       "        [ -7.74221002,   8.35823353],\n",
       "        [  0.45211555,   7.59127305],\n",
       "        [  5.83908105,   2.47881484],\n",
       "        [  1.81609456,   7.48722301],\n",
       "        [ -8.82447029,   7.13019953],\n",
       "        [  3.99830723,   5.6481869 ],\n",
       "        [ -7.69314815,   6.22037605],\n",
       "        [ -1.22251595,   8.7454806 ],\n",
       "        [  0.86346724,   7.56503772],\n",
       "        [ -8.015379  ,   7.77218914],\n",
       "        [  4.86647796,   4.85613351],\n",
       "        [  4.57492667,   4.89788228],\n",
       "        [ -8.62293382,   6.76824029],\n",
       "        [ -8.23488076,   7.70472641],\n",
       "        [  4.25217194,   6.30731199],\n",
       "        [  4.09840846,   4.37892199],\n",
       "        [  0.48376384,   7.66567344],\n",
       "        [  1.84505746,   6.58715462],\n",
       "        [  3.73382692,   4.75459467],\n",
       "        [ -9.95320537,   8.42959485],\n",
       "        [ -8.74321545,   6.4703192 ],\n",
       "        [  5.3521048 ,   6.56758138],\n",
       "        [  1.97180046,   4.23666746],\n",
       "        [  2.24632332,   5.44621551],\n",
       "        [  0.59665901,   7.39829653],\n",
       "        [  4.00856318,   7.41194719],\n",
       "        [  4.05361765,   3.59734414],\n",
       "        [ -8.79958644,   7.5258254 ],\n",
       "        [  1.10359534,   8.21675353],\n",
       "        [  4.76568197,   4.55193572],\n",
       "        [  2.79490177,   5.45185872],\n",
       "        [  4.43063485,   3.22913097],\n",
       "        [ -9.80269579,   6.45819629],\n",
       "        [-10.69570509,   7.21040991],\n",
       "        [  0.7214119 ,   9.23055052],\n",
       "        [  0.32005131,   7.83044065],\n",
       "        [ -8.05224679,   6.95589551],\n",
       "        [  3.98586236,   6.00094126],\n",
       "        [ -8.1616894 ,   7.29871228],\n",
       "        [ -7.92005833,   6.31224219],\n",
       "        [ -8.30047766,   6.98057686],\n",
       "        [  0.38214512,   8.46760215],\n",
       "        [ -8.56966819,   8.308757  ],\n",
       "        [  4.09566149,   4.87696145],\n",
       "        [ -9.55845794,   7.83419164],\n",
       "        [ -9.04563141,   5.45477681],\n",
       "        [  0.40083047,   7.08725743],\n",
       "        [  4.76268621,   5.42179483],\n",
       "        [  2.31612353,   7.99378984],\n",
       "        [  2.95359971,   5.87270848],\n",
       "        [  2.63047271,   5.88034316],\n",
       "        [  2.30932025,   5.06580934],\n",
       "        [-10.38515468,   6.00738088],\n",
       "        [  3.76900179,   6.39427855],\n",
       "        [  3.80308165,   5.93224349],\n",
       "        [  1.86968827,   7.64914068],\n",
       "        [  1.16733741,   9.07208982],\n",
       "        [ -9.29775445,   7.63144673],\n",
       "        [  3.07761486,   5.43684334],\n",
       "        [  4.33936501,   4.39942169],\n",
       "        [ -8.57630266,   6.0160264 ],\n",
       "        [  0.08378783,   7.17593684],\n",
       "        [  1.23059605,  10.36812182],\n",
       "        [ -8.40611054,   5.63266831],\n",
       "        [ -8.58486027,   7.51244691],\n",
       "        [  3.84014209,   3.46181767],\n",
       "        [  4.58631618,   6.71646008],\n",
       "        [ -1.33833867,   6.88082145],\n",
       "        [  0.85510019,  10.39037304],\n",
       "        [  3.34397448,   4.78256886],\n",
       "        [  3.52011161,   6.46015057],\n",
       "        [  3.97819364,   5.73801794],\n",
       "        [  3.26821568,   5.88527997]]),\n",
       " array([0, 1, 2, 2, 1, 2, 1, 1, 0, 1, 0, 2, 2, 0, 2, 1, 1, 2, 1, 1, 2, 2,\n",
       "        2, 2, 2, 2, 1, 1, 2, 0, 2, 1, 0, 1, 2, 2, 1, 0, 0, 1, 1, 0, 0, 2,\n",
       "        2, 0, 1, 1, 0, 0, 0, 2, 0, 0, 1, 2, 0, 0, 0, 1, 1, 2, 2, 1, 0, 1,\n",
       "        1, 1, 2, 1, 0, 1, 1, 2, 0, 2, 2, 0, 0, 1, 0, 0, 2, 2, 1, 0, 0, 1,\n",
       "        2, 2, 1, 1, 0, 0, 2, 2, 0, 0, 0, 0]))"
      ]
     },
     "execution_count": 12,
     "metadata": {},
     "output_type": "execute_result"
    }
   ],
   "source": [
    "blobs"
   ]
  },
  {
   "cell_type": "code",
   "execution_count": 14,
   "metadata": {},
   "outputs": [
    {
     "data": {
      "text/plain": [
       "array([  2.07825239,  -8.8096324 ,   1.5560192 ,  -0.65658145,\n",
       "        -9.51100967,   0.74904507,  -9.13052651,  -8.53329663,\n",
       "         3.46974103,  -8.89921859,   2.74290907,   3.40677498,\n",
       "         1.01234382,   4.66845044,   0.45134233,  -8.63608417,\n",
       "        -7.18477245,   0.26103918,  -9.29146121, -10.61271351,\n",
       "        -0.33676077,   0.36511963,   0.71522785,  -0.85872483,\n",
       "         1.72279279,   0.29299058,  -9.7408737 ,  -7.74221002,\n",
       "         0.45211555,   5.83908105,   1.81609456,  -8.82447029,\n",
       "         3.99830723,  -7.69314815,  -1.22251595,   0.86346724,\n",
       "        -8.015379  ,   4.86647796,   4.57492667,  -8.62293382,\n",
       "        -8.23488076,   4.25217194,   4.09840846,   0.48376384,\n",
       "         1.84505746,   3.73382692,  -9.95320537,  -8.74321545,\n",
       "         5.3521048 ,   1.97180046,   2.24632332,   0.59665901,\n",
       "         4.00856318,   4.05361765,  -8.79958644,   1.10359534,\n",
       "         4.76568197,   2.79490177,   4.43063485,  -9.80269579,\n",
       "       -10.69570509,   0.7214119 ,   0.32005131,  -8.05224679,\n",
       "         3.98586236,  -8.1616894 ,  -7.92005833,  -8.30047766,\n",
       "         0.38214512,  -8.56966819,   4.09566149,  -9.55845794,\n",
       "        -9.04563141,   0.40083047,   4.76268621,   2.31612353,\n",
       "         2.95359971,   2.63047271,   2.30932025, -10.38515468,\n",
       "         3.76900179,   3.80308165,   1.86968827,   1.16733741,\n",
       "        -9.29775445,   3.07761486,   4.33936501,  -8.57630266,\n",
       "         0.08378783,   1.23059605,  -8.40611054,  -8.58486027,\n",
       "         3.84014209,   4.58631618,  -1.33833867,   0.85510019,\n",
       "         3.34397448,   3.52011161,   3.97819364,   3.26821568])"
      ]
     },
     "execution_count": 14,
     "metadata": {},
     "output_type": "execute_result"
    }
   ],
   "source": [
    "blobs[0][:,0]"
   ]
  },
  {
   "cell_type": "code",
   "execution_count": 1,
   "metadata": {},
   "outputs": [],
   "source": [
    "import seaborn as sns\n",
    "import matplotlib.pyplot as plt\n",
    "%matplotlib inline"
   ]
  },
  {
   "cell_type": "code",
   "execution_count": 20,
   "metadata": {},
   "outputs": [
    {
     "data": {
      "text/plain": [
       "<matplotlib.collections.PathCollection at 0x7fe8fbaf47d0>"
      ]
     },
     "execution_count": 20,
     "metadata": {},
     "output_type": "execute_result"
    },
    {
     "data": {
      "image/png": "[encoded data removed]",
      "text/plain": [
       "<Figure size 432x288 with 1 Axes>"
      ]
     },
     "metadata": {
      "needs_background": "light"
     },
     "output_type": "display_data"
    }
   ],
   "source": [
    "plt.scatter(blobs[0][:,0],blobs[0][:,1],cmap = \"rainbow\")"
   ]
  },
  {
   "cell_type": "code",
   "execution_count": null,
   "metadata": {},
   "outputs": [],
   "source": []
  },
  {
   "cell_type": "code",
   "execution_count": 19,
   "metadata": {},
   "outputs": [],
   "source": [
    "kmeans = KMeans(n_clusters=4)"
   ]
  },
  {
   "cell_type": "code",
   "execution_count": 21,
   "metadata": {},
   "outputs": [
    {
     "data": {
      "text/plain": [
       "KMeans(algorithm='auto', copy_x=True, init='k-means++', max_iter=300,\n",
       "    n_clusters=4, n_init=10, n_jobs=None, precompute_distances='auto',\n",
       "    random_state=None, tol=0.0001, verbose=0)"
      ]
     },
     "execution_count": 21,
     "metadata": {},
     "output_type": "execute_result"
    }
   ],
   "source": [
    "kmeans.fit(blobs[0])"
   ]
  },
  {
   "cell_type": "code",
   "execution_count": 28,
   "metadata": {},
   "outputs": [
    {
     "data": {
      "text/plain": [
       "<matplotlib.collections.PathCollection at 0x7fe8f99bdc50>"
      ]
     },
     "execution_count": 28,
     "metadata": {},
     "output_type": "execute_result"
    },
    {
     "data": {
      "image/png": "[encoded data removed]",
      "text/plain": [
       "<Figure size 720x432 with 2 Axes>"
      ]
     },
     "metadata": {
      "needs_background": "light"
     },
     "output_type": "display_data"
    }
   ],
   "source": [
    "f,(ax1,ax2) = plt.subplots(1,2,sharey=True,figsize = (10,6))\n",
    "ax1.set_title = \"Original\"\n",
    "ax1.scatter(x=blobs[0][:,0],y = blobs[0][:,1],c = blobs[1],cmap=\"rainbow\")\n",
    "ax2.set_title = \"Kmeans\"\n",
    "ax2.scatter(x=blobs[0][:,0],y = blobs[0][:,1],c = kmeans.labels_,cmap=\"rainbow\")"
   ]
  },
  {
   "cell_type": "code",
   "execution_count": 23,
   "metadata": {},
   "outputs": [],
   "source": []
  },
  {
   "cell_type": "code",
   "execution_count": 24,
   "metadata": {},
   "outputs": [
    {
     "data": {
      "text/plain": [
       "<matplotlib.collections.PathCollection at 0x7fe8f988a9d0>"
      ]
     },
     "execution_count": 24,
     "metadata": {},
     "output_type": "execute_result"
    }
   ],
   "source": []
  },
  {
   "cell_type": "code",
   "execution_count": 25,
   "metadata": {},
   "outputs": [],
   "source": []
  },
  {
   "cell_type": "code",
   "execution_count": 26,
   "metadata": {},
   "outputs": [
    {
     "data": {
      "text/plain": [
       "<matplotlib.collections.PathCollection at 0x7fe9049dfbd0>"
      ]
     },
     "execution_count": 26,
     "metadata": {},
     "output_type": "execute_result"
    }
   ],
   "source": []
  },
  {
   "cell_type": "code",
   "execution_count": 27,
   "metadata": {},
   "outputs": [],
   "source": [
    "plt.show()"
   ]
  },
  {
   "cell_type": "code",
   "execution_count": null,
   "metadata": {},
   "outputs": [],
   "source": []
  }
 ],
 "metadata": {
  "kernelspec": {
   "display_name": "Python 3",
   "language": "python",
   "name": "python3"
  },
  "language_info": {
   "codemirror_mode": {
    "name": "ipython",
    "version": 2
   },
   "file_extension": ".py",
   "mimetype": "text/x-python",
   "name": "python",
   "nbconvert_exporter": "python",
   "pygments_lexer": "ipython2",
   "version": "2.7.17"
  }
 },
 "nbformat": 4,
 "nbformat_minor": 4
}
